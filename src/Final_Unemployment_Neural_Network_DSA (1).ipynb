{
  "cells": [
    {
      "cell_type": "markdown",
      "metadata": {
        "id": "1JOeBAIf7HVo"
      },
      "source": [
        "# Neural Network Predicting Success\n",
        "Names: Arushi Agarwal\n",
        "\n",
        "Member 1: Arushi Agarwal\n",
        "\n",
        "Due: July 26th, 5:30pm"
      ]
    },
    {
      "cell_type": "code",
      "execution_count": 1,
      "metadata": {
        "colab": {
          "base_uri": "https://localhost:8080/"
        },
        "id": "_wDQDZUxpFWY",
        "outputId": "8bc834a1-3ab1-4540-ab00-a7045ea06725"
      },
      "outputs": [
        {
          "output_type": "stream",
          "name": "stderr",
          "text": [
            "Installing package into ‘/usr/local/lib/R/site-library’\n",
            "(as ‘lib’ is unspecified)\n",
            "\n",
            "Installing package into ‘/usr/local/lib/R/site-library’\n",
            "(as ‘lib’ is unspecified)\n",
            "\n",
            "Installing package into ‘/usr/local/lib/R/site-library’\n",
            "(as ‘lib’ is unspecified)\n",
            "\n"
          ]
        }
      ],
      "source": [
        "install.packages(\"keras\")\n",
        "install.packages(\"dplyr\")\n",
        "install.packages(\"tidyverse\")"
      ]
    },
    {
      "cell_type": "markdown",
      "metadata": {
        "id": "pq_5-bcvyowk"
      },
      "source": [
        "# Case Study: Yelp Textmining NN\n",
        "\n",
        "We will be creating a Neural Network with 4 hidden layers to predict the unemployment rate of a county given all other variables. \n",
        "\n",
        "## Data Preparation\n",
        "\n",
        "Imported the data."
      ]
    },
    {
      "cell_type": "code",
      "execution_count": 13,
      "metadata": {
        "colab": {
          "base_uri": "https://localhost:8080/"
        },
        "id": "7HkIS6O-ufoH",
        "outputId": "c550a17d-7efa-4155-bb20-8d10aba07d35"
      },
      "outputs": [
        {
          "output_type": "stream",
          "name": "stdout",
          "text": [
            "'data.frame':\t2335 obs. of  46 variables:\n",
            " $ state                    : chr  \"alabama\" \"alabama\" \"alabama\" \"alabama\" ...\n",
            " $ county                   : chr  \"autauga\" \"baldwin\" \"barbour\" \"bibb\" ...\n",
            " $ fips                     : int  1001 1003 1005 1007 1009 1011 1013 1015 1017 1019 ...\n",
            " $ pop                      : int  55504 212628 25270 22668 58013 10309 19825 114728 33713 25857 ...\n",
            " $ age_under_5              : num  5.7 5.7 5.5 5.7 6.1 5.8 5.9 5.7 6.1 4.5 ...\n",
            " $ age_over_65              : num  14.3 19 17.4 15.1 17.4 15.2 18.5 16.5 18.6 21 ...\n",
            " $ median_age               : num  37.8 42.6 39.7 39.8 40.9 40.8 40.7 39.1 43 46.1 ...\n",
            " $ black                    : num  9.55 4.77 24.02 11.03 0.79 ...\n",
            " $ native                   : num  0.15 0.41 0.1 0.18 0.18 0.52 0.03 0.18 0.14 0.24 ...\n",
            " $ asian                    : num  0.47 0.35 0.31 0 0.07 0.35 0.56 0.5 0.5 0.1 ...\n",
            " $ pac_isl                  : num  0.04 0 0 0 0 0 0 0 0 0 ...\n",
            " $ other_single_race        : num  0.65 0.39 1.87 0.02 0.37 0.01 0.03 0.63 0.35 0.1 ...\n",
            " $ two_plus_races           : num  0.84 0.82 0.41 0.42 0.85 0.33 0.74 1.14 0.49 0.52 ...\n",
            " $ hispanic                 : num  2.67 4.44 4.21 2.35 9.01 0.33 0.32 3.57 2.15 1.58 ...\n",
            " $ white_not_hispanic       : num  75.4 83.1 45.7 74.6 87.4 ...\n",
            " $ speak_english_only       : num  96.2 94.5 94.3 97.8 92.3 97.2 98.5 95.9 98.6 99 ...\n",
            " $ women_16_to_50_birth_rate: num  7.4 5.1 7.2 7.6 5.6 3.5 4.8 5.2 4.3 3.8 ...\n",
            " $ hs_grad                  : num  87.7 90.2 73.1 82.1 79.8 71.4 81.1 83.2 80.9 79.5 ...\n",
            " $ some_college             : num  29.1 31.6 25.5 25 34.4 21.3 24.5 33.2 29.1 28.9 ...\n",
            " $ bachelors                : num  25 30.7 12 13.2 13.1 13.4 16.1 17.9 13.3 12.5 ...\n",
            " $ veterans                 : num  12.6 11.9 8 7.4 9.6 4.5 8.4 10.9 9.2 11.3 ...\n",
            " $ mean_work_travel         : num  25.8 27 23.4 30 35 29.8 23.2 24.8 23.6 26.5 ...\n",
            " $ broadband                : num  76.6 74.5 57.2 62 65.8 49.4 58.2 71 62.8 67.5 ...\n",
            " $ computer                 : num  86.2 86.9 73.4 74.8 78.2 64.2 68.3 82.9 72.7 79.4 ...\n",
            " $ households               : int  21054 76133 9191 6916 20690 3670 7050 45099 13694 10795 ...\n",
            " $ persons_per_household    : num  2.59 2.63 2.54 2.97 2.76 2.74 2.81 2.49 2.44 2.37 ...\n",
            " $ per_capita_income        : num  27842 27780 17892 20572 21367 ...\n",
            " $ median_household_income  : int  55317 52562 33368 43404 47412 29655 36326 43686 37342 40041 ...\n",
            " $ poverty                  : num  13.7 11.8 27.2 15.2 15.6 28.5 24.4 18.6 18.8 16.1 ...\n",
            " $ poverty_age_under_5      : num  17.2 19.4 56.8 21.6 29.5 59.7 30.1 31.1 31.9 12.8 ...\n",
            " $ poverty_age_under_18     : num  20 15.9 44.9 25.9 25.3 50.2 34.8 26.3 28.9 20.1 ...\n",
            " $ uninsured                : num  8.8 10.8 12.3 8.1 11 14.1 11.4 10.4 12.2 9 ...\n",
            " $ uninsured_age_under_6    : num  1.1 2.4 4.1 2.7 3.9 0 1.5 0.3 6 1.8 ...\n",
            " $ uninsured_age_under_19   : num  3.2 3.5 4.6 1.8 5.7 1.2 2.8 1.8 4.7 3.4 ...\n",
            " $ uninsured_age_over_74    : num  0 0.4 0 0 0.2 0 0 0 0 0 ...\n",
            " $ civilian_labor_force     : int  25909 91567 8236 8506 24494 4812 8946 45582 15176 11174 ...\n",
            " $ employed                 : int  24908 87915 7750 8133 23509 4575 8455 43333 14557 10721 ...\n",
            " $ unemployed               : int  1001 3652 486 373 985 237 491 2249 619 453 ...\n",
            " $ unemployment_rate        : num  3.86 3.99 5.9 4.39 4.02 4.93 5.49 4.93 4.08 4.05 ...\n",
            " $ violent_crime            : int  55 163 34 3 313 6 33 18 3 48 ...\n",
            " $ property_crime           : int  384 737 100 69 812 46 190 211 89 357 ...\n",
            " $ fips_state               : int  1 13 54 13 47 1 42 54 48 48 ...\n",
            " $ fips_county              : int  1 9 1 21 9 11 19 13 71 73 ...\n",
            " $ violent_crime_rate       : num  99.1 76.7 134.5 13.2 539.5 ...\n",
            " $ property_crime_rate      : num  692 347 396 304 1400 ...\n",
            " $ crime_rate               : num  791 423 530 318 1939 ...\n"
          ]
        }
      ],
      "source": [
        "data2 <- read.csv(\"final_data.csv\")\n",
        "str(data2)"
      ]
    },
    {
      "cell_type": "markdown",
      "metadata": {
        "id": "JZ4nePPDyu2q"
      },
      "source": [
        "### Generate training and testing datasets\n",
        "**Reserved 2102 entries for training data, and the rest for testing. Left 10 entries for Validation from the testing data in case the RMSE of this model is less than that of the linear model. Also set seed to 420**\n"
      ]
    },
    {
      "cell_type": "code",
      "execution_count": 14,
      "metadata": {
        "colab": {
          "base_uri": "https://localhost:8080/"
        },
        "id": "RE05GmNcukrA",
        "outputId": "cc8d0b7c-64a3-4ad8-ec7e-7fef40fbc48f"
      },
      "outputs": [
        {
          "output_type": "stream",
          "name": "stderr",
          "text": [
            "Installing package into ‘/usr/local/lib/R/site-library’\n",
            "(as ‘lib’ is unspecified)\n",
            "\n"
          ]
        }
      ],
      "source": [
        "set.seed(420)\n",
        "install.packages('dplyr')\n",
        "library(dplyr)\n",
        "library(tidyverse)\n",
        "inp_data <- data2 %>% select(\n",
        "        # VARS OF INTEREST\n",
        "        hs_grad, some_college, bachelors,  # education stats\n",
        "\n",
        "        # CONTROLS\n",
        "        pop,  # population\n",
        "        # demographics (races)\n",
        "        black, native, asian, pac_isl, hispanic,\n",
        "        white_not_hispanic, other_single_race, two_plus_races,\n",
        "        # demographics (age)\n",
        "        age_under_5, age_over_65, median_age,\n",
        "        women_16_to_50_birth_rate,  # birth rate\n",
        "        veterans,  # veteran % of pop\n",
        "        computer,  # % w/ access to computer\n",
        "        households, persons_per_household,  # pretty obvious\n",
        "        # % of population that's uninsured & whatever\n",
        "        uninsured, uninsured_age_under_6, uninsured_age_under_19, uninsured_age_over_74,\n",
        "        civilian_labor_force  # size of labor force\n",
        ")\n",
        "inp_data$unemprate <- data2$unemployment_rate\n",
        "inp_data <- inp_data %>% select(unemprate, everything())\n",
        "\n",
        "\n",
        "n <- nrow(inp_data)\n",
        "trainingindexes <- sample(n, 2102)\n",
        "data2_train <- inp_data[trainingindexes, ]\n",
        "data2_xtrain <- as.matrix(data2_train[, -1])\n",
        "data2_ytrain <- as.matrix(data2_train[, 1])\n",
        "data2_testing <- inp_data[-trainingindexes, ]\n",
        "data2_validation <- data2_testing[1:10,]\n",
        "data2_testing <- data2_testing[-c(1,2,3,4,5,6,7,8,9,10),]\n",
        "data2_testx <- as.matrix(data2_testing[, -1])\n",
        "data2_testy <- as.matrix(data2_testing[, 1])\n"
      ]
    },
    {
      "cell_type": "markdown",
      "metadata": {
        "id": "-Q0-HCX3zIVE"
      },
      "source": [
        "### Reserved 10 validation entries"
      ]
    },
    {
      "cell_type": "code",
      "execution_count": 15,
      "metadata": {
        "id": "UJHLxxaxuqvM"
      },
      "outputs": [],
      "source": [
        "#more code to do this shown above \n",
        "data2_valx <- as.matrix(data2_validation[, -1])\n",
        "data2_valy <- as.matrix(data2_validation[, 1])"
      ]
    },
    {
      "cell_type": "markdown",
      "metadata": {
        "id": "LP382Pq6zL8l"
      },
      "source": [
        "## Building the NN\n",
        "### **Define a Model with the following Architecture:**\n",
        "  + 4 layers with 16,8,4,3 neurons respectively\n",
        "  + Activation function in hidden layers is `relu`\n",
        "  + Output layer has no activation function"
      ]
    },
    {
      "cell_type": "code",
      "execution_count": 16,
      "metadata": {
        "id": "zCz1adNVurTj"
      },
      "outputs": [],
      "source": [
        "library(dplyr)\n",
        "library(keras)\n",
        "p <- dim(data2_xtrain)[2] #number of input variables \n",
        "model <- keras_model_sequential() %>%\n",
        "    layer_dense(units = 16, activation =\"relu\", input_shape = c(p)) %>%\n",
        "    layer_dense(units = 8, activation=\"relu\") %>%\n",
        "    layer_dense(units = 4, activation=\"relu\") %>%\n",
        "    layer_dense(units = 3, activation=\"relu\") %>%\n",
        "    #output layer below\n",
        "    layer_dense(units = 1)"
      ]
    },
    {
      "cell_type": "markdown",
      "metadata": {
        "id": "7I23BZ4azTPv"
      },
      "source": [
        "### **Compile the Model**"
      ]
    },
    {
      "cell_type": "code",
      "execution_count": 17,
      "metadata": {
        "id": "vAixf987uv4U"
      },
      "outputs": [],
      "source": [
        "set.seed(420)\n",
        "model %>% compile(\n",
        "  optimizer=\"rmsprop\", #rmsprop means residual minimizing something :)\n",
        "  loss=\"mse\",\n",
        "  metrics=\"accuracy\"\n",
        ")"
      ]
    },
    {
      "cell_type": "markdown",
      "metadata": {
        "id": "ke4FPgAozUVF"
      },
      "source": [
        "### **Train the Model with the following parameters**\n",
        "batch_size = 512\n",
        "\n",
        "validation_split = .15\n",
        "\n",
        "Epoch = 20"
      ]
    },
    {
      "cell_type": "code",
      "execution_count": 18,
      "metadata": {
        "colab": {
          "base_uri": "https://localhost:8080/",
          "height": 437
        },
        "id": "sGSPCaV5uyQ7",
        "outputId": "951d5af6-a1a0-4cf7-e206-7737d4a485ba"
      },
      "outputs": [
        {
          "output_type": "display_data",
          "data": {
            "text/plain": [
              "plot without title"
            ],
            "image/png": "[encoded data removed]"
          },
          "metadata": {
            "image/png": {
              "width": 420,
              "height": 420
            }
          }
        }
      ],
      "source": [
        "set.seed(420)\n",
        "fit1 <- model %>% fit(\n",
        "  data2_xtrain,\n",
        "  data2_ytrain, \n",
        "  epochs = 10,\n",
        "  batch_size = 50, \n",
        "  validation_split = 0.15\n",
        ")\n",
        "plot(fit1)"
      ]
    },
    {
      "cell_type": "markdown",
      "metadata": {
        "id": "b7XxXEJQ5Mr3"
      },
      "source": [
        "### **Assessing Performance** \n",
        "Loss = RMSE = 3.48\n"
      ]
    },
    {
      "cell_type": "code",
      "execution_count": 19,
      "metadata": {
        "colab": {
          "base_uri": "https://localhost:8080/",
          "height": 34
        },
        "id": "PgbXMf4-5NoU",
        "outputId": "8aa756ac-d345-43d1-da10-9298f1ea15d3"
      },
      "outputs": [
        {
          "output_type": "display_data",
          "data": {
            "text/html": [
              "<style>\n",
              ".dl-inline {width: auto; margin:0; padding: 0}\n",
              ".dl-inline>dt, .dl-inline>dd {float: none; width: auto; display: inline-block}\n",
              ".dl-inline>dt::after {content: \":\\0020\"; padding-right: .5ex}\n",
              ".dl-inline>dt:not(:first-of-type) {padding-left: .5ex}\n",
              "</style><dl class=dl-inline><dt>loss</dt><dd>4.50650846504611</dd><dt>accuracy</dt><dd>0</dd></dl>\n"
            ],
            "text/markdown": "loss\n:   4.50650846504611accuracy\n:   0\n\n",
            "text/latex": "\\begin{description*}\n\\item[loss] 4.50650846504611\n\\item[accuracy] 0\n\\end{description*}\n",
            "text/plain": [
              "    loss accuracy \n",
              "4.506508 0.000000 "
            ]
          },
          "metadata": {}
        }
      ],
      "source": [
        "set.seed(420)\n",
        "results <- model %>% evaluate(data2_testx, data2_testy)\n",
        "sqrt(results)"
      ]
    },
    {
      "cell_type": "markdown",
      "metadata": {
        "id": "2DYAPFQrzboe"
      },
      "source": [
        "## Conclusions  \n",
        "\n",
        "Because the RMSE is greater than that of the linear model, we will be using that to make our predictions using the validation data. "
      ]
    }
  ],
  "metadata": {
    "colab": {
      "collapsed_sections": [],
      "name": "Final Unemployment Neural Network DSA.ipynb",
      "provenance": []
    },
    "kernelspec": {
      "display_name": "R",
      "name": "ir"
    },
    "language_info": {
      "name": "R"
    }
  },
  "nbformat": 4,
  "nbformat_minor": 0
}